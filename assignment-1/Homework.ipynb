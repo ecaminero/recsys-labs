{
 "cells": [
  {
   "cell_type": "markdown",
   "metadata": {},
   "source": [
    "# Laboratorio 1\n",
    "\n",
    "\n",
    "- **Fecha Inicio**: Miércoles 18 de abril del 2018\n",
    "- **Entrega Informe**: Domingo 29 de abril del 2018"
   ]
  },
  {
   "cell_type": "markdown",
   "metadata": {},
   "source": [
    "# Instalación\n",
    "\n",
    "Para facilitar el proceso de instalación de esta actividad, trabajaremos con una máquina virtual que tendrá _casi_ todos los programas instalados.\n",
    "\n",
    "Como motor de máquinas virtuales usaremos [Virtual Box](https://www.virtualbox.org/wiki/Downloads). Desde ese link tendrán que descargar la versión que mejor se ajuste a su sistema operativo. Luego desde los servidores de la universidad deben descargar la [máquina virtual](http://niebla.ing.puc.cl/diplomadobigdata/vbox-pyreclab-lda.ova) ya configurada.\n",
    "\n",
    "Finalmente debemos importar la máquina descargada dentro de Virtual Box, para ello deben seguir los siguientes pasos: Abrir virtual box > Archivo > Abrir servicio virtualizado, o bien `Crtl+I`.\n",
    "\n",
    "**Observación:** la contraseña del usuario configurado es _ubuntu_.\n",
    "\n",
    "Una vez abierto la máquina virtual, abrir la consola o terminal y escribir los siguiente comandos:\n",
    "\n",
    "```bash\n",
    "$ sudo apt-get install git\n",
    "$ sudo pip3 install jupyter\n",
    "$ sudo pip3 install matplotlib\n",
    "```\n",
    "\n",
    "Descargar este proyecto ya sea con `git` o mediante el botón de descargar y ejecutar `notebook`.\n",
    "\n",
    "```bash\n",
    "$ git clone https://github.com/stgolarrain/recsys-labs.git\n",
    "$ cd recsys-labs/assignment-1\n",
    "$ jupyter notebook\n",
    "```"
   ]
  },
  {
   "cell_type": "markdown",
   "metadata": {},
   "source": [
    "## Instrucciones\n",
    "\n",
    "En este laboratorio explorarán la herramienta de sistemas de recomendación pyreclab.\n",
    "\n",
    "La biblioteca [pyreclab]( https://github.com/gasevi/pyreclab ) es una librería que implementa una serie de técnicas y modelos de recomandación, exponiendo una interfaz de fácil uso manteniendo un buen rendimiento en meoria y en CPU.\n",
    "\n",
    "En este laboratorio ejecutaremos los scripts de la carpeta [examples]( https://github.com/gasevi/pyreclab/tree/master/examples ) de la librería y evaluaremos cómo se comportan las métricas _RMSE_ y _MAE_, frente a diferentes parámetros.\n",
    "\n",
    "La librería puede ser instalada ejecutando el siguiente comando en la consola:\n",
    "```bash\n",
    "$  pip install pyreclab\n",
    "```\n",
    "\n",
    "Para facilitar la experiencia del laboratorio los archivos de ejemplo han sido guardados en la subcarpeta `src`."
   ]
  },
  {
   "cell_type": "markdown",
   "metadata": {},
   "source": [
    "## Laboratorio\n",
    "\n",
    "A continuación deberá ejecutar las siguientes celdas y responder a las preguntas."
   ]
  },
  {
   "cell_type": "code",
   "execution_count": null,
   "metadata": {
    "collapsed": true
   },
   "outputs": [],
   "source": [
    "import matplotlib.pyplot as plt\n",
    "%matplotlib inline"
   ]
  },
  {
   "cell_type": "code",
   "execution_count": null,
   "metadata": {
    "collapsed": true
   },
   "outputs": [],
   "source": [
    "# Do not change this cell\n",
    "from src import testUserAvg\n",
    "testUserAvg.main()"
   ]
  },
  {
   "cell_type": "code",
   "execution_count": null,
   "metadata": {
    "collapsed": true
   },
   "outputs": [],
   "source": [
    "# Do not change this cell\n",
    "from src import testItemAvg\n",
    "testItemAvg.main()"
   ]
  },
  {
   "cell_type": "code",
   "execution_count": null,
   "metadata": {
    "collapsed": true
   },
   "outputs": [],
   "source": [
    "# Do not change this cell\n",
    "from src import testSlopeOne\n",
    "testSlopeOne.main()"
   ]
  },
  {
   "cell_type": "code",
   "execution_count": null,
   "metadata": {
    "collapsed": true
   },
   "outputs": [],
   "source": [
    "# Do not change this cell\n",
    "from src import testUserKnn\n",
    "\n",
    "k_values = [10, 50, 100]\n",
    "mae_values = []\n",
    "rmse_values = []\n",
    "\n",
    "for k in k_values:\n",
    "    mae, rmse = testUserKnn.main(k=k)\n",
    "    mae_values.append(mae)\n",
    "    rmse_values.append(rmse)"
   ]
  },
  {
   "cell_type": "markdown",
   "metadata": {},
   "source": [
    "En la próxima celda deberá graficar los diferentes valores de las métricas MAE y RMSE utilizando la librería [matplotlib](https://matplotlib.org/). Se recomienda revisar el siguiente [tutorial](https://matplotlib.org/users/pyplot_tutorial.html).\n",
    "\n",
    "_Hint:_ Se recomienda guardar el resultado de las métricas en un arreglo y luego graficar."
   ]
  },
  {
   "cell_type": "code",
   "execution_count": null,
   "metadata": {
    "collapsed": true
   },
   "outputs": [],
   "source": [
    "# Do not change this cell\n",
    "# Plotting MAE values\n",
    "plt.plot(k_values, mae_values, 'ro')\n",
    "plt.show()"
   ]
  },
  {
   "cell_type": "code",
   "execution_count": null,
   "metadata": {
    "collapsed": true
   },
   "outputs": [],
   "source": [
    "# TODO: Plot RMSE values for different value of K"
   ]
  },
  {
   "cell_type": "markdown",
   "metadata": {},
   "source": [
    "**Pregunta**\n",
    "En la celda anterior debe modificar el código para que ejecutar User KNN modificando el parámetro de la vencidad **K**. ¿Cuál es el efecto del parametro **K** en el valor de RMSE y MAE? Grafique el resultado utilizando la librería `matplotlib`.\n",
    "\n",
    "**Respuesta**"
   ]
  },
  {
   "cell_type": "code",
   "execution_count": null,
   "metadata": {
    "collapsed": true
   },
   "outputs": [],
   "source": [
    "# TODO: Change this cell to execute with k = [10, 50, 100]\n",
    "from src import testItemKnn\n",
    "mae, rmse = testItemKnn.main(k=10)"
   ]
  },
  {
   "cell_type": "code",
   "execution_count": null,
   "metadata": {
    "collapsed": true
   },
   "outputs": [],
   "source": [
    "# TODO: Plot MAE values for different value of K"
   ]
  },
  {
   "cell_type": "code",
   "execution_count": null,
   "metadata": {
    "collapsed": true
   },
   "outputs": [],
   "source": [
    "# TODO: Plot RMSE values for different value of K"
   ]
  },
  {
   "cell_type": "markdown",
   "metadata": {},
   "source": [
    "**Pregunta**\n",
    "En la celda anterior debe modificar el código para que ejecutar Item KNN modificando el parámetro de la vencidad **K**. ¿Cuál es el efecto del parametro **K** en el valor de RMSE y MAE? Grafique el resultado utilizando la librería `matplotlib`.\n",
    "\n",
    "**Respuesta**"
   ]
  },
  {
   "cell_type": "markdown",
   "metadata": {},
   "source": [
    "**(OPCIONAL)**\n",
    "Al completar esta pregunta bonus adicional tendrán 1 punto extra en la nota final.\n",
    "\n",
    "Deberán ejecutar FunkSVD con distintos valores de dimensiones latentes y graficar efecto de dimensiones latentes (eje x) sobre el RMSE (eje y)."
   ]
  },
  {
   "cell_type": "code",
   "execution_count": null,
   "metadata": {
    "collapsed": true
   },
   "outputs": [],
   "source": [
    "# TODO: complete bonus\n",
    "from src import testFunkSvd\n",
    "mae, rmse = testFunkSvd.main(factors=100)"
   ]
  },
  {
   "cell_type": "markdown",
   "metadata": {},
   "source": [
    "## Entregable\n",
    "\n",
    "Una vez completado el laboratorio y respondido las preguntas deberán exportar este archivo en formato `html` y subir a la plataforma _Moodle_.\n",
    "\n",
    "Para exportar este archivo deben ir a `File > Donwload as > HTML (.html)`\n",
    "\n",
    "Si tienen algún problema o duda enviar mail a **dparra [at] ing [dot] puc [dot] cl** o **slarrain [at] uc [dot] cl** anteponiendo [Diplomada Bog Data] en el asunto."
   ]
  }
 ],
 "metadata": {
  "kernelspec": {
   "display_name": "python3.6.4",
   "language": "python",
   "name": "python3.6.4"
  },
  "language_info": {
   "codemirror_mode": {
    "name": "ipython",
    "version": 3
   },
   "file_extension": ".py",
   "mimetype": "text/x-python",
   "name": "python",
   "nbconvert_exporter": "python",
   "pygments_lexer": "ipython3",
   "version": "3.6.4"
  }
 },
 "nbformat": 4,
 "nbformat_minor": 2
}
